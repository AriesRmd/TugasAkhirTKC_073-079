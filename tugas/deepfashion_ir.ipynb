{
  "nbformat": 4,
  "nbformat_minor": 0,
  "metadata": {
    "colab": {
      "name": "deepfashion_ir.ipynb",
      "provenance": [],
      "collapsed_sections": [],
      "include_colab_link": true
    },
    "kernelspec": {
      "display_name": "Python 3",
      "name": "python3"
    },
    "language_info": {
      "name": "python"
    }
  },
  "cells": [
    {
      "cell_type": "markdown",
      "metadata": {
        "id": "view-in-github",
        "colab_type": "text"
      },
      "source": [
        "<a href=\"https://colab.research.google.com/github/jodysuseno/TugasAkhirTKC_073-079/blob/main/tugas/deepfashion_ir.ipynb\" target=\"_parent\"><img src=\"https://colab.research.google.com/assets/colab-badge.svg\" alt=\"Open In Colab\"/></a>"
      ]
    },
    {
      "cell_type": "code",
      "metadata": {
        "colab": {
          "base_uri": "https://localhost:8080/"
        },
        "id": "qmoxrK7PJN3D",
        "outputId": "54c80be8-080a-407b-de51-3a4a16972e7c"
      },
      "source": [
        "from google.colab import drive\n",
        "drive.mount('/content/drive')"
      ],
      "execution_count": null,
      "outputs": [
        {
          "output_type": "stream",
          "name": "stdout",
          "text": [
            "Mounted at /content/drive\n"
          ]
        }
      ]
    },
    {
      "cell_type": "code",
      "metadata": {
        "id": "zCEDD12YMgcv"
      },
      "source": [
        "import re\n",
        "import os\n",
        "import shutil\n",
        "import numpy as np\n",
        "import tensorflow as tf\n",
        "from keras_preprocessing.image import ImageDataGenerator"
      ],
      "execution_count": null,
      "outputs": []
    },
    {
      "cell_type": "code",
      "metadata": {
        "id": "sUVSzhSPJlKb"
      },
      "source": [
        "# base_dir = \"/content/drive/MyDrive/Uni/Semester 7/deepfashion-ir\"\n",
        "base_dir = \"/content/drive/MyDrive/dataku/Dataset/deepfashion-ir\""
      ],
      "execution_count": null,
      "outputs": []
    },
    {
      "cell_type": "code",
      "metadata": {
        "id": "IUhmXaA7JoZu"
      },
      "source": [
        "# !unzip -q \"/content/drive/MyDrive/Uni/Semester 7/deepfashion-ir/img.zip\" -d \"/content/drive/MyDrive/Uni/Semester 7/deepfashion-ir/\""
      ],
      "execution_count": null,
      "outputs": []
    },
    {
      "cell_type": "code",
      "metadata": {
        "id": "z22yvGrDK8t-"
      },
      "source": [
        "splitter = re.compile(\"\\s+\")\n",
        "\n",
        "def eval_partioner():\n",
        "        # Read the relevant annotation file and preprocess it\n",
        "        # Assumed that the annotation files are under '<project folder>/data/anno' path\n",
        "        with open(os.path.join(base_dir, 'list_eval_partition.txt'), 'r') as eval_partition_file:\n",
        "            list_eval_partition = [line.rstrip('\\n') for line in eval_partition_file][2:]\n",
        "            list_eval_partition = [splitter.split(line) for line in list_eval_partition]\n",
        "            print(list_eval_partition)\n",
        "            list_all = [(v[0], v[0].split('/')[2], v[1], v[2], v[0].split('/')[1]) for v in list_eval_partition]\n",
        "            print(list_all)\n",
        "\n",
        "        new_path = os.path.join(os.path.join(base_dir, \"img\"), \"BOTH\")\n",
        "\n",
        "        if not os.path.exists(new_path):\n",
        "            os.mkdir(new_path)\n",
        "\n",
        "        # Put each image into the relevant folder in train/test/validation folder\n",
        "        for element in list_all:\n",
        "            if not os.path.exists(os.path.join(new_path, element[3])):\n",
        "                os.mkdir(os.path.join(new_path, element[3]))\n",
        "            if not os.path.exists(os.path.join(os.path.join(new_path, element[3]), element[4]+\"_\"+element[1])):\n",
        "                os.mkdir(os.path.join(os.path.join(new_path, element[3]), element[4]+\"_\"+element[1]))\n",
        "            if not os.path.exists(os.path.join(os.path.join(os.path.join(os.path.join(new_path, element[3]),\n",
        "                                                                         element[4] + \"_\" + element[1])),\n",
        "                                  element[2])):\n",
        "                os.mkdir(os.path.join(os.path.join(os.path.join(os.path.join(new_path, element[3]),\n",
        "                                                                element[4]+\"_\"+element[1])),\n",
        "                         element[2]))\n",
        "            shutil.move(os.path.join(base_dir, element[0]),\n",
        "                        os.path.join(os.path.join(os.path.join(new_path, element[3]), element[4]+\"_\"+element[1]),\n",
        "                                     element[2]))"
      ],
      "execution_count": null,
      "outputs": []
    },
    {
      "cell_type": "code",
      "metadata": {
        "colab": {
          "base_uri": "https://localhost:8080/"
        },
        "id": "h1Is0m7DMnpZ",
        "outputId": "15f879df-e398-498e-cc2c-967094ebfcc4"
      },
      "source": [
        "# eval_partioner()"
      ],
      "execution_count": null,
      "outputs": [
        {
          "name": "stderr",
          "output_type": "stream",
          "text": [
            "IOPub data rate exceeded.\n",
            "The notebook server will temporarily stop sending output\n",
            "to the client in order to avoid crashing it.\n",
            "To change this limit, set the config variable\n",
            "`--NotebookApp.iopub_data_rate_limit`.\n",
            "\n",
            "Current values:\n",
            "NotebookApp.iopub_data_rate_limit=1000000.0 (bytes/sec)\n",
            "NotebookApp.rate_limit_window=3.0 (secs)\n",
            "\n"
          ]
        }
      ]
    },
    {
      "cell_type": "code",
      "metadata": {
        "id": "T-ElfBSNUc_8"
      },
      "source": [
        "train_datagen = ImageDataGenerator(\n",
        "    rotation_range=30,\n",
        "    width_shift_range=0.2,\n",
        "    height_shift_range=0.2,\n",
        "    brightness_range=[0.5, 1.5],\n",
        "    shear_range=0.1,\n",
        "    zoom_range=0.1,\n",
        "    horizontal_flip=True,\n",
        "    rescale=(1.0/255.0))\n",
        "\n",
        "datagen = ImageDataGenerator(rescale=(1.0/255.0))"
      ],
      "execution_count": null,
      "outputs": []
    },
    {
      "cell_type": "code",
      "metadata": {
        "id": "B9Btk4RUiIoI"
      },
      "source": [
        "train_dir = base_dir + \"/img/BOTH/train\"\n",
        "val_dir = base_dir + \"/img/BOTH/gallery\"\n",
        "test_dir = base_dir + \"/img/BOTH/query\""
      ],
      "execution_count": null,
      "outputs": []
    },
    {
      "cell_type": "code",
      "metadata": {
        "colab": {
          "base_uri": "https://localhost:8080/"
        },
        "id": "IYRLv_L3gbh7",
        "outputId": "cf5e1e47-57e3-45e6-e8c9-c3475b07bec3"
      },
      "source": [
        "train_gen = train_datagen.flow_from_directory(\n",
        "    directory=train_dir,\n",
        "    target_size=(200, 200))"
      ],
      "execution_count": null,
      "outputs": [
        {
          "output_type": "stream",
          "name": "stdout",
          "text": [
            "Found 25882 images belonging to 23 classes.\n"
          ]
        }
      ]
    },
    {
      "cell_type": "code",
      "metadata": {
        "colab": {
          "base_uri": "https://localhost:8080/"
        },
        "id": "sUplR-YGgq9Y",
        "outputId": "9d9549ed-86d4-4cd2-bda1-e9a12f3d10f4"
      },
      "source": [
        "val_gen = datagen.flow_from_directory(\n",
        "    directory=val_dir,\n",
        "    target_size=(200, 200))"
      ],
      "execution_count": null,
      "outputs": [
        {
          "output_type": "stream",
          "name": "stdout",
          "text": [
            "Found 12612 images belonging to 23 classes.\n"
          ]
        }
      ]
    },
    {
      "cell_type": "code",
      "metadata": {
        "colab": {
          "base_uri": "https://localhost:8080/"
        },
        "id": "Oj9qB7ELgwa5",
        "outputId": "7885d050-bf56-41d8-a2a5-8339cc9b11c5"
      },
      "source": [
        "test_gen = datagen.flow_from_directory(\n",
        "    directory=test_dir,\n",
        "    target_size=(200, 200))"
      ],
      "execution_count": null,
      "outputs": [
        {
          "output_type": "stream",
          "name": "stdout",
          "text": [
            "Found 14218 images belonging to 23 classes.\n"
          ]
        }
      ]
    }
  ]
}